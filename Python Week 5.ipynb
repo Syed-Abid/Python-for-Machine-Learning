{
 "cells": [
  {
   "cell_type": "code",
   "execution_count": 5,
   "id": "f409c9ce",
   "metadata": {},
   "outputs": [
    {
     "name": "stdout",
     "output_type": "stream",
     "text": [
      "Abid Hassan\n",
      "2345\n",
      "Python\n"
     ]
    }
   ],
   "source": [
    "#Now we will start the super keyword.\n",
    "#So, this keyword is used to refer to the parent class.\n",
    "#It is especially useful when a class inherits from multiple parent classes and it has to\n",
    "#a method from one of those classes.\n",
    "class Employee:\n",
    "  def __init__(self, name, id):\n",
    "    self.name = name\n",
    "    self.id = id\n",
    "\n",
    "class Programmer(Employee):\n",
    "  def __init__(self, name, id, lang):\n",
    "    super().__init__( name, id)\n",
    "    self.lang = lang\n",
    "\n",
    "hammad = Employee(\"Hammad\", \"434\")\n",
    "abid = Programmer(\"Abid Hassan\", \"2345\", \"Python\")\n",
    "print(abid.name)\n",
    "print(abid.id)\n",
    "print(abid.lang)"
   ]
  },
  {
   "cell_type": "code",
   "execution_count": 9,
   "id": "acb79824",
   "metadata": {},
   "outputs": [
    {
     "name": "stdout",
     "output_type": "stream",
     "text": [
      "The name of the employee is Abid\n"
     ]
    }
   ],
   "source": [
    "#Now we will learn about Magic/Dunder Methods in Python.\n",
    "#Magic methods are also known as Dunders, by double underscores surrounding their names.\n",
    "#This tool allow you to customize the behavior of your classes.\n",
    "#They are used to implement special methods such as addition,subtraction and comparison operators.\n",
    "class Employee:\n",
    "    def __init__(self,name):\n",
    "        self.name = name\n",
    "    def __len__(self):    \n",
    "        i = 0\n",
    "        for c in self.name:\n",
    "            i = i + 1\n",
    "            return i\n",
    "    def __str__(self):\n",
    "        return f\"The name of the employee is {self.name}\"\n",
    "        \n",
    "    def __repr__(self):\n",
    "        return f\"Employee '{self.name}'\"\n",
    "e = Employee(\"Abid\")\n",
    "print(e)"
   ]
  },
  {
   "cell_type": "code",
   "execution_count": 1,
   "id": "165caff0",
   "metadata": {},
   "outputs": [
    {
     "name": "stdout",
     "output_type": "stream",
     "text": [
      "78.5\n"
     ]
    }
   ],
   "source": [
    "#now we will start method overriding.\n",
    "#it is a powerful feature in OOP which allows us to define a method in derived class.\n",
    "#the method in the derived class is said to override the method in base class.\n",
    "#when you create an instance of the derived class and calls the overriden method,\n",
    "#the version of the mthod in the derived class is executed, rather then the version in base class.\n",
    "#In Python method overriding is a way to customize the behavior of a class based on it's specific needs.\n",
    "class Shape:\n",
    "  def __init__(self, x, y):\n",
    "    self.x = x\n",
    "    self.y = y\n",
    "    \n",
    "  def area(self):\n",
    "      return self.x * self.y\n",
    "\n",
    "class Circle(Shape):\n",
    "    def __init__(self, radius):\n",
    "      self.radius = radius\n",
    "      super().__init__(radius, radius)\n",
    "\n",
    "    def area(self):\n",
    "        return 3.14 *  super().area()\n",
    "      \n",
    "# rec = Shape(3, 5)\n",
    "# print(rec.area())\n",
    "\n",
    "c = Circle(5)\n",
    "print(c.area())"
   ]
  },
  {
   "cell_type": "code",
   "execution_count": 6,
   "id": "09b26a0c",
   "metadata": {},
   "outputs": [
    {
     "name": "stdout",
     "output_type": "stream",
     "text": [
      "1i + 2j + 3k\n",
      "4i + 5j + 6k\n"
     ]
    }
   ],
   "source": [
    "#Now, we will start learning operator overloading.\n",
    "#It is a feature that allows developers to redefine the behavior of mathematical and comparison operators.\n",
    "#we need this feature as it allows us to create more intuitive and readable code.\n",
    "#Consider a custom class that represents a point in 2D space.You could define a method 'add' to add two points together.\n",
    "#but using the + operator make the code more concise and readable.\n",
    "class Vector:\n",
    "    def __init__(self,i,j,k):\n",
    "        self.i = i\n",
    "        self.j = j\n",
    "        self.k = k\n",
    "        \n",
    "    def __str__(self):\n",
    "        return f\"{self.i}i + {self.j}j + {self.k}k\"\n",
    "    \n",
    "    \n",
    "    def __add__(self,x):\n",
    "        return Vector(self.i+x.i,self.j+x.j,self.k+x.k)\n",
    "    \n",
    "    \n",
    "v1 = Vector(1,2,3)\n",
    "v2 = Vector(4,5,6)\n",
    "print(v1)\n",
    "print(v2)"
   ]
  },
  {
   "cell_type": "code",
   "execution_count": 14,
   "id": "039be6fd",
   "metadata": {},
   "outputs": [
    {
     "name": "stdout",
     "output_type": "stream",
     "text": [
      "Bark!\n",
      "Meow!\n"
     ]
    }
   ],
   "source": [
    "#Now we will learn about single inheritance in Python.\n",
    "#it is a type of inheritance where a class inherits properties and behavior from a single parent class.\n",
    "class Animal:\n",
    "    def __init__(self,name,species):\n",
    "        self.name = name\n",
    "        self.species = species\n",
    "        \n",
    "    def make_sound(self):\n",
    "        print(\"Sound made by the animal!\")\n",
    "        \n",
    "class Dog(Animal):\n",
    "    def __init__(self,name,breed):\n",
    "        Animal.__init__(self,name,species=\"Dog\")\n",
    "        self.breed = breed\n",
    "        \n",
    "    def make_sound(self):\n",
    "        print(\"Bark!\")\n",
    "        \n",
    "class Cat(Animal):\n",
    "    def __init__(self,name,breed):\n",
    "        Animal.__init__(self,name,species=\"Cat\")\n",
    "        self.breed = breed\n",
    "        \n",
    "    def cat_sound(self):\n",
    "        print(\"Meow!\")\n",
    "        \n",
    "d = Dog(\"Husky\",\"Wild\")\n",
    "d.make_sound()\n",
    "\n",
    "c = Cat(\"Mano\",\"Persian\")\n",
    "c.cat_sound()"
   ]
  },
  {
   "cell_type": "code",
   "execution_count": 7,
   "id": "a4da7f02",
   "metadata": {},
   "outputs": [
    {
     "name": "stdout",
     "output_type": "stream",
     "text": [
      "Shivani\n",
      "Khathak\n",
      "The name is Shivani\n",
      "[<class '__main__.DancerEmployee'>, <class '__main__.Employee'>, <class '__main__.Dancer'>, <class 'object'>]\n"
     ]
    }
   ],
   "source": [
    "#let's move toward multiple inheritance.\n",
    "#It is a type of inheritance where a class inherits properties and behavior from multiple parent classes.\n",
    "class Employee:\n",
    "    def __init__(self,name):\n",
    "        self.name = name\n",
    "    def show(self): \n",
    "        print(f\"The name is {self.name}\")\n",
    "        \n",
    "class Dancer:\n",
    "    def __init__(self,dance):\n",
    "        self.dance = dance\n",
    "    def show(self): \n",
    "        print(f\"The dance is {self.dance}\")\n",
    "            \n",
    "class DancerEmployee(Employee,Dancer):\n",
    "    def __init__(self,name,dance):\n",
    "        self.name = name\n",
    "        self.dance = dance\n",
    "        \n",
    "o = DancerEmployee(\"Shivani\",\"Khathak\")\n",
    "print(o.name)\n",
    "print(o.dance)\n",
    "o.show()\n",
    "print(DancerEmployee.mro())  #mro stands for Method Resolution Order"
   ]
  },
  {
   "cell_type": "code",
   "execution_count": 8,
   "id": "f70ceb0d",
   "metadata": {},
   "outputs": [
    {
     "name": "stdout",
     "output_type": "stream",
     "text": [
      "Name: tommy\n",
      "Species: Dog\n",
      "Breed: Black\n",
      "[<class '__main__.GoldenRetriever'>, <class '__main__.Dog'>, <class '__main__.Animal'>, <class 'object'>]\n"
     ]
    }
   ],
   "source": [
    "#So, now we will start learning Multilevel Inheritance\n",
    "#so it is a type of inheritance where a derived class inherits from a derived class.\n",
    "class Animal:\n",
    "    def __init__(self, name, species):\n",
    "        self.name = name\n",
    "        self.species = species\n",
    "        \n",
    "    def show_details(self):\n",
    "        print(f\"Name: {self.name}\")\n",
    "        print(f\"Species: {self.species}\")\n",
    "        \n",
    "class Dog(Animal):\n",
    "    def __init__(self, name, breed):\n",
    "        Animal.__init__(self, name, species=\"Dog\")\n",
    "        self.breed = breed\n",
    "        \n",
    "    def show_details(self):\n",
    "        Animal.show_details(self)\n",
    "        print(f\"Breed: {self.breed}\")\n",
    "        \n",
    "class GoldenRetriever(Dog):\n",
    "    def __init__(self, name, color):\n",
    "        Dog.__init__(self, name, breed=\"Golden Retriever\")\n",
    "        self.color = color\n",
    "        \n",
    "    def show_details(self):\n",
    "        Dog.show_details(self)\n",
    "        print(f\"Color: {self.color}\")\n",
    "\n",
    "o = Dog(\"tommy\", \"Black\")\n",
    "o.show_details()\n",
    "print(GoldenRetriever.mro())\n",
    "#One of the important aspect of this is that allows you to reuse code and avoid repeating same logic multiple times."
   ]
  },
  {
   "cell_type": "code",
   "execution_count": 1,
   "id": "b0893a0c",
   "metadata": {},
   "outputs": [],
   "source": [
    "#Now we will learn about Hybrid and Hierarichal Inheritance.\n",
    "#So we will start with hybrid inheritance which is a combination of Multiple and Single Inheritance.\n",
    "#In this multiple inheritance is used to inherit the properties of multiple base classes into a single derived class.\n",
    "#and single inheritance is used to inherit the properties of derived class into a sub-derived class.\n",
    "# Example of Hybrid Inheritance \n",
    "class BaseClass:\n",
    "  pass\n",
    "\n",
    "class Derived1(BaseClass):\n",
    "  pass  \n",
    "\n",
    "class Derived2(BaseClass):\n",
    "  pass  \n",
    "\n",
    "class Derived3(Derived1, Derived2):\n",
    "  pass\n",
    "\n",
    "# Hierarchical Inheritance\n",
    "#it is a inheritance where multiple subclasses inherit from a single base class.\n",
    "class BaseClass:\n",
    "  pass\n",
    "\n",
    "class D1(BaseClass):\n",
    "  pass\n",
    "\n",
    "class D2(BaseClass):\n",
    "  pass\n",
    "\n",
    "class D3(D1):\n",
    "  pass"
   ]
  }
 ],
 "metadata": {
  "kernelspec": {
   "display_name": "Python 3 (ipykernel)",
   "language": "python",
   "name": "python3"
  },
  "language_info": {
   "codemirror_mode": {
    "name": "ipython",
    "version": 3
   },
   "file_extension": ".py",
   "mimetype": "text/x-python",
   "name": "python",
   "nbconvert_exporter": "python",
   "pygments_lexer": "ipython3",
   "version": "3.9.13"
  }
 },
 "nbformat": 4,
 "nbformat_minor": 5
}
