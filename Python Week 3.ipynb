{
 "cells": [
  {
   "cell_type": "code",
   "execution_count": 3,
   "id": "5533a5a6",
   "metadata": {},
   "outputs": [
    {
     "name": "stdout",
     "output_type": "stream",
     "text": [
      "585225\n",
      "It takes in a number n, and return it's square.\n"
     ]
    }
   ],
   "source": [
    "#let's get started with the third week.\n",
    "# we will start with docstrings.\n",
    "def square(n):\n",
    "    '''It takes in a number n, and return it's square.'''\n",
    "    print(n*n)\n",
    "    \n",
    "square(765)\n",
    "#the text/literal written in triple quotes is the docstring.\n",
    "#to print this docstring we have to write\n",
    "print(square.__doc__)\n",
    "#Docstrings is used for the code documentation.It must be written immediate after function initialization."
   ]
  },
  {
   "cell_type": "code",
   "execution_count": 6,
   "id": "65a8ec75",
   "metadata": {},
   "outputs": [
    {
     "data": {
      "text/plain": [
       "25852016738884976640000"
      ]
     },
     "execution_count": 6,
     "metadata": {},
     "output_type": "execute_result"
    }
   ],
   "source": [
    "#Now we will talk about recursion.\n",
    "#When a function calls itself it is called recursion.\n",
    "#it is called recursive functions.\n",
    "def factorial(n):\n",
    "    if(n==0 or n==1):\n",
    "        return 1\n",
    "    else:\n",
    "        return n * factorial(n - 1)\n",
    "        \n",
    "factorial(23)"
   ]
  },
  {
   "cell_type": "code",
   "execution_count": 15,
   "id": "76a8be39",
   "metadata": {},
   "outputs": [
    {
     "name": "stdout",
     "output_type": "stream",
     "text": [
      "{'Abid', 4.5, 23}\n",
      "32\n",
      "Hassan\n",
      "4.5\n",
      "23\n",
      "47\n",
      "{1, 2, 3, 4, 97, 6, 8}\n",
      "{1, 2, 3, 4, 97, 6, 8}\n",
      "{8, 97, 4, 6}\n",
      "{1, 2, 3}\n",
      "False\n",
      "True\n",
      "False\n",
      "{1, 2, 3, 4, 97, 6, 8, 23}\n",
      "{1, 2, 3, 97, 6, 8, 23}\n",
      "1\n",
      "Item is present\n"
     ]
    }
   ],
   "source": [
    "#let's talk about the sets.\n",
    "#sets are unordered collection of data items.Store multiple items in a single variable.\n",
    "set1={23,4.5,\"Abid\"}\n",
    "print(set1)\n",
    "#sets donot allow duplicate values and prints values in random order.\n",
    "set2={23,47,32,23,23,4.5,\"Hassan\"}\n",
    "for value in set2:\n",
    "    print(value)\n",
    "    \n",
    "#set also have some methods.\n",
    "#So, to join two sets or make union of two sets we perform something like this\n",
    "s1={1,2,3,4}\n",
    "s2={6,8,97,4}\n",
    "print(s1.union(s2))\n",
    "#to update a set we write\n",
    "s1.update(s2)\n",
    "print(s1)\n",
    "#to perform intersection(displays the common elements) on two sets we write\n",
    "s3=s1.intersection(s2)\n",
    "print(s3)\n",
    "#to perform symmetric difference(displays the un-common values) on two sets we write\n",
    "s4=s1.symmetric_difference(s2)\n",
    "print(s4)\n",
    "#to perform isdisjoint() method (it checks if item of given set is present in another ) we write\n",
    "print(s1.isdisjoint(s2))\n",
    "#to perform issuperset method(it checks if items of given set is part of the original set) we write\n",
    "print(s1.issuperset(s2))\n",
    "#to perform issubset method(it checks whether given elements are subpart of the original set) we write\n",
    "print(s1.issubset(s2))\n",
    "#to add a new element in a set we write\n",
    "s1.add(23)\n",
    "print(s1)\n",
    "#to remove a element in a set we write\n",
    "s1.remove(4)\n",
    "print(s1)\n",
    "#to pop(it removes the last element of the set) element from a set we write\n",
    "item=s1.pop()\n",
    "print(item)\n",
    "#to delete a entire set we write\n",
    "s7={65,87,57,45}\n",
    "del s7\n",
    "if 3 in s1:\n",
    "    print(\"Item is present\")\n",
    "else:\n",
    "    print(\"It is not present\")"
   ]
  },
  {
   "cell_type": "code",
   "execution_count": 9,
   "id": "60e0db8d",
   "metadata": {},
   "outputs": [
    {
     "name": "stdout",
     "output_type": "stream",
     "text": [
      "Name\n",
      "Syed\n",
      "32\n",
      "34\n",
      "45\n",
      "503\n",
      "Abid\n",
      "Syed\n",
      "Hassan\n",
      "Name\n",
      "dict_items([(32, 'Abid'), (34, 'Syed'), (45, 'Hassan'), (503, 'Name')])\n",
      "{32: 'Abid', 34: 'Syed', 45: 'Hassan', 503: 'Name', 57: 'Active'}\n",
      "{}\n",
      "{34: 'Syed', 45: 'Hassan', 503: 'Name', 57: 'Active'}\n",
      "{34: 'Syed', 45: 'Hassan', 503: 'Name'}\n",
      "{34: 'Syed', 45: 'Hassan'}\n"
     ]
    }
   ],
   "source": [
    "#Now we will talk about Dictionaries.\n",
    "dict={32:\"Abid\",\n",
    "      34:\"Syed\",\n",
    "      45:\"Hassan\",\n",
    "      503:\"Name\"}\n",
    "\n",
    "print(dict[503])\n",
    "#we can access values using keys like we did above or we can use the get[] method.\n",
    "print(dict.get(34))\n",
    "#to print all the keys in a dictionary we write\n",
    "for key in dict.keys():\n",
    "    print(key)\n",
    "    \n",
    "#to print all the values we write\n",
    "for value in dict.values():\n",
    "    print(value)\n",
    "    \n",
    "#to access all the key-value pairs we write\n",
    "print(dict.items())\n",
    "\n",
    "#Now let's talk about the dictionary methods by which we can manipulate a dictionary.\n",
    "#so to update a dictionary we can use the update function.\n",
    "dict.update({57:\"Active\"})\n",
    "print(dict)\n",
    "#to remove an item we use the remove function.\n",
    "dict2={543:\"Acheive\"}\n",
    "dict2.clear()\n",
    "print(dict2)\n",
    "#We also use pop method which takes a key and remove teh key-value pair.\n",
    "dict.pop(32)\n",
    "print(dict)\n",
    "#we can also use popitem() which removes teh last key-pair form a dictionary.\n",
    "dict.popitem()\n",
    "print(dict)\n",
    "#you can also use del to remove a item.\n",
    "del dict[503]\n",
    "print(dict)"
   ]
  },
  {
   "cell_type": "code",
   "execution_count": null,
   "id": "24bda641",
   "metadata": {},
   "outputs": [],
   "source": [
    "#Now we wil see how we can use else in a for loop.\n",
    "for i in range(8):\n",
    "    print(\"It's for you.\")\n",
    "else:\n",
    "    print(\"It's not for you.\")\n",
    "    \n",
    "#The same thing can be done with the while loop\n",
    "while i < 12:\n",
    "    print(i)\n",
    "    i = i + 1\n",
    "else:\n",
    "    print(\"No more i\")"
   ]
  },
  {
   "cell_type": "code",
   "execution_count": 11,
   "id": "bfe005f6",
   "metadata": {},
   "outputs": [
    {
     "name": "stdout",
     "output_type": "stream",
     "text": [
      "We are ready to execute.\n",
      "1.1\n",
      "2.1\n",
      "3.1\n"
     ]
    }
   ],
   "source": [
    "#Now we will look into exception handling in python\n",
    "#So, exception handling is the process of responding to unexpected events.\n",
    "#We can use try and except method.\n",
    "# in this method is there is an error in try block exception block will run.\n",
    "print(\"We are ready to execute.\")\n",
    "try:\n",
    "    for i in range(3):\n",
    "        print(float(i) + 1.1)\n",
    "except ValueError:\n",
    "    print(\"We have some error above\")\n"
   ]
  },
  {
   "cell_type": "code",
   "execution_count": 17,
   "id": "80ef2e62",
   "metadata": {},
   "outputs": [
    {
     "name": "stdout",
     "output_type": "stream",
     "text": [
      "I am first\n",
      "I am third.\n"
     ]
    }
   ],
   "source": [
    "#Now we will see the use of finally keyword.\n",
    "#this keyword/clause is used with try and except block.\n",
    "#finally block is always executed so it is used for concluding tasks like closing files etc.\n",
    "try:\n",
    "    print(\"I am first\")\n",
    "except SyntaxError:\n",
    "    print(\"I am second\")\n",
    "finally:\n",
    "    print(\"I am third.\")"
   ]
  },
  {
   "cell_type": "code",
   "execution_count": 23,
   "id": "2fc0af66",
   "metadata": {},
   "outputs": [
    {
     "name": "stdout",
     "output_type": "stream",
     "text": [
      "Right\n",
      "5\n"
     ]
    }
   ],
   "source": [
    "#Now we will look into short hand if else statements\n",
    "#shorthand means that instead of writing a whole block you can write it like\n",
    "a=5\n",
    "v=8\n",
    "print(\"Let's start\") if a>v else print(\"Right\") if a<v else print(\"Left\")\n",
    "\n",
    "c=9 if a == v else 5\n",
    "print(c)"
   ]
  },
  {
   "cell_type": "code",
   "execution_count": 26,
   "id": "b2a720ec",
   "metadata": {},
   "outputs": [
    {
     "name": "stdout",
     "output_type": "stream",
     "text": [
      "23\n",
      "45\n",
      "Awesome!\n",
      "25\n",
      "76\n",
      "Awesome!\n",
      "87\n",
      "Awesome!\n",
      "1 23\n",
      "2 45\n",
      "3 25\n",
      "4 76\n",
      "5 87\n"
     ]
    }
   ],
   "source": [
    "#Let's move towards the Enumerate function\n",
    "#this function allows you to loop over a sequence and get the \n",
    "#index and value of each element.\n",
    "marks=[23,45,25,76,87]\n",
    "for index,mark in enumerate(marks):\n",
    "    print(mark)\n",
    "    if(mark > 35):\n",
    "        print(\"Awesome!\")\n",
    "        \n",
    "#to change the start index we can perfrom something like this\n",
    "for index,mark in enumerate(marks,start=1):\n",
    "    print(index,mark)"
   ]
  },
  {
   "cell_type": "code",
   "execution_count": 28,
   "id": "8ec8ae74",
   "metadata": {},
   "outputs": [
    {
     "name": "stdout",
     "output_type": "stream",
     "text": [
      "3.0\n"
     ]
    }
   ],
   "source": [
    "#let's see how import and it's related keywords work and how it can help us in our tasks.\n",
    "import math\n",
    "result=math.sqrt(9)\n",
    "print(result)\n",
    "#just like there are many other modules and packages that we can import and make our tasks easy."
   ]
  },
  {
   "cell_type": "code",
   "execution_count": 9,
   "id": "89c2a7c8",
   "metadata": {},
   "outputs": [
    {
     "ename": "SyntaxError",
     "evalue": "invalid syntax (1197745169.py, line 8)",
     "output_type": "error",
     "traceback": [
      "\u001b[1;36m  File \u001b[1;32m\"C:\\Users\\Computer link\\AppData\\Local\\Temp\\ipykernel_13424\\1197745169.py\"\u001b[1;36m, line \u001b[1;32m8\u001b[0m\n\u001b[1;33m    if__name__ == \"__main__\" :\u001b[0m\n\u001b[1;37m                              ^\u001b[0m\n\u001b[1;31mSyntaxError\u001b[0m\u001b[1;31m:\u001b[0m invalid syntax\n"
     ]
    }
   ],
   "source": [
    "#now we will see what is if__name__==\"__main__\" in python and what does it do\n",
    "#it determines whether the script is being run directly or bieng imported as a module into another script.\n",
    "#here name is a built-in variable which is automatically set to the name of current module.\n",
    "#so when a python script run directly the name variable is set to the main module.\n",
    "def hello():\n",
    "    print(\"Here we go!\")\n",
    "    \n",
    "if__name__ == \"__main__\" :\n",
    "    print(hello())               #it is giving error because it's a jupyter notebook not a python script notebook.\n",
    "    \n",
    "#On a short note it is not a necessity to use but can be useful if you are importing code from other scripts."
   ]
  },
  {
   "cell_type": "code",
   "execution_count": 18,
   "id": "7a161ad5",
   "metadata": {},
   "outputs": [
    {
     "name": "stdout",
     "output_type": "stream",
     "text": [
      "The current directory is: C:\\Users\\Computer link\n",
      "['$Recycle.Bin', '$WinREAgent', '$WINRE_BACKUP_PARTITION.MARKER', '482D8B577AD6', 'Config.Msi', 'Documents and Settings', 'DumpStack.log.tmp', 'hiberfil.sys', 'Intel', 'pagefile.sys', 'PerfLogs', 'Program Files', 'Program Files (x86)', 'ProgramData', 'Recovery', 'swapfile.sys', 'System Volume Information', 'Users', 'Windows']\n",
      "nt\n"
     ]
    }
   ],
   "source": [
    "#Now we will look into OS module in python.\n",
    "#OS is a built-in module in python that allows you to interact with the operating system by providing function.\n",
    "#As you can get the current working directory in python using os like\n",
    "import os\n",
    "\n",
    "cwd = os.getcwd()\n",
    "print(\"The current directory is:\",cwd)\n",
    "\n",
    "#You can also change the cwd path by using chdir() function. \n",
    "#not doing it now other wise it will mess things up.\n",
    "\n",
    "#to make a directory you can use mkdir() or mkdirs() function\n",
    "#os.mkdir(\"Data\")\n",
    "\n",
    "#to get the list of all files in the directory(root directory) we use listdir() function\n",
    "path = '/'\n",
    "list = os.listdir(path)\n",
    "print(list)\n",
    "\n",
    "#to remove a directory we can use rmdir() function\n",
    "#os.rmdir(\"Data\")\n",
    "\n",
    "#name() function gives the name of the operating system dependent module imported.\n",
    "print(os.name)\n",
    "\n",
    "#These are some functions that we have discussed and there are many more."
   ]
  },
  {
   "cell_type": "code",
   "execution_count": 14,
   "id": "fd49daa0",
   "metadata": {},
   "outputs": [
    {
     "name": "stdout",
     "output_type": "stream",
     "text": [
      "I am a Computer Science student and will be a professional in a year.\n",
      "I am a Computer Science student and will be a professional in a year.I am a Computer Science student and will be a professional in a year.\n"
     ]
    }
   ],
   "source": [
    "#now lets move toward File input/output in python.\n",
    "#We will see how open a file or write in a file or read file using python\n",
    "#To open a file and concurrently creating it we write\n",
    "f=open('file1.txt','r')\n",
    "#f.write(\"Assalam-o-Aalaikum, My name is Syed Abid Hassan.\")\n",
    "\n",
    "\n",
    "#to append in that same file we can use mode 'a'.\n",
    "#the text we want to append is\n",
    "#f.write(\"I am currently 19 years old.\")\n",
    "text=f.read()\n",
    "print(text)\n",
    "\n",
    "#then to close that file we write\n",
    "f.close()\n",
    "#we can also use teh with statement\n",
    "with open('file1.txt','a') as f:\n",
    "    f.write('I am a Computer Science student and will be a professional in a year.')\n",
    "\n",
    "f=open('file1.txt','r')    \n",
    "result=f.read()\n",
    "print(result)\n",
    "\n",
    "#I didn't change the mode to a in the first time so it has overwritten the previous text."
   ]
  },
  {
   "cell_type": "code",
   "execution_count": 30,
   "id": "8888e777",
   "metadata": {},
   "outputs": [
    {
     "name": "stdout",
     "output_type": "stream",
     "text": [
      "The local x is7\n",
      "The global x is 5\n",
      "6\n"
     ]
    }
   ],
   "source": [
    "#Let's earn about local and global variables in python.\n",
    "#A local variable is defined within a function and is accessible only in that function.\n",
    "#A global variable is defined outside the function and is accessible by any function in the program.\n",
    "#it can be demonstrated by a simple program.\n",
    "\n",
    "x=5\n",
    "def hello():\n",
    "    x=7\n",
    "    z=10\n",
    "    print(f\"The local x is{x}\")\n",
    "    \n",
    "hello()\n",
    "print(f\"The global x is {x}\")\n",
    "print(z)\n",
    "#you can see the error because z cannot be accessed globally.\n"
   ]
  },
  {
   "cell_type": "code",
   "execution_count": 24,
   "id": "9a09c8a9",
   "metadata": {},
   "outputs": [
    {
     "name": "stdout",
     "output_type": "stream",
     "text": [
      "['I am a good man\\n', '\\tI am planning to do my masters in germany']\n"
     ]
    }
   ],
   "source": [
    "#Let's see about read(),readines() and other methods like this.\n",
    "#So, to start with readliness() method, it reads a single line from a file and to read multiple lines we use a loop.\n",
    "f=open('file1.txt','r')\n",
    "while True:\n",
    "    line = f.readlines()\n",
    "    if not line:\n",
    "        break\n",
    "    print(line)\n",
    "    \n",
    "#Let's move towards writelines() method.\n",
    "#This method writes a sequence of string to a file.\n",
    "#the sequence can be a iterable object like a list or tuple.\n",
    "f=open('file1.txt','w')\n",
    "lines=['I am a good man\\n\\t','I am planning to do my masters in germany']\n",
    "f.writelines(lines)\n",
    "f.close()"
   ]
  },
  {
   "cell_type": "code",
   "execution_count": 1,
   "id": "e5cf161c",
   "metadata": {},
   "outputs": [
    {
     "name": "stdout",
     "output_type": "stream",
     "text": [
      "d man\n",
      "10\n",
      "How a\n"
     ]
    }
   ],
   "source": [
    "#Now move towards seek(), tell() and other methods.\n",
    "#We will be starting with the seek() function.\n",
    "#seek function allows you to move the current position within a file to a specific point.\n",
    "#the position is specified in bytes and you can move backward or forward.\n",
    "with open('file1.txt','r') as f:\n",
    "    f.seek(10)  #Move to the 10th byte in file\n",
    "    \n",
    "    data=f.read(5) #read the next five bytes\n",
    "    print(data) #prints those bytes that has been read.\n",
    "    \n",
    "#Now let's see what our tell() function do\n",
    "#it returns the current position within a file in bytes\n",
    "with open('file1.txt','r') as f:\n",
    "    f.read(10)\n",
    "    \n",
    "    current_position=f.tell()    #saving the current position\n",
    "    print(current_position)\n",
    "    f.seek(current_position) #it return to the current position\n",
    "    \n",
    "#now let's see what our truncate function do\n",
    "#it truncates the file to a specific size\n",
    "with open('file1.txt','w') as f:\n",
    "    f.write(\"How are you?\")\n",
    "    f.truncate(5)\n",
    "    \n",
    "with open('file1.txt','r') as f:\n",
    "    file = f.read()\n",
    "    print(file)\n",
    "    \n",
    "#as you can see it has printed the truncated size\n"
   ]
  },
  {
   "cell_type": "code",
   "execution_count": 8,
   "id": "0683cefd",
   "metadata": {},
   "outputs": [
    {
     "name": "stdout",
     "output_type": "stream",
     "text": [
      "10\n",
      "343\n",
      "77.0\n",
      "22\n"
     ]
    }
   ],
   "source": [
    "#Now we will dive into lambda function.\n",
    "#so lambda functions are used in situations where a small function is required for a short period of time.\n",
    "#they are commonly used as arguments to functions such as map,filter etc.\n",
    "\n",
    "double = lambda x:x*2 #it takes x and returns x*2.\n",
    "print(double(5))\n",
    "#just like this we can make a cube function\n",
    "cube = lambda x:x*x*x\n",
    "print(cube(7))\n",
    "#we can also make a average function which takes two variables\n",
    "average= lambda x,y:(x+y)/2\n",
    "print(average(87,67))\n",
    "\n",
    "#you can also define a function and pass it the lambda\n",
    "def appl(fx,value):\n",
    "   return 6 + fx(value)\n",
    "    \n",
    "print(appl(lambda x:x*x,4))"
   ]
  },
  {
   "cell_type": "code",
   "execution_count": 3,
   "id": "71f549bc",
   "metadata": {},
   "outputs": [
    {
     "name": "stdout",
     "output_type": "stream",
     "text": [
      "<map object at 0x0000022F523FBD60>\n",
      "[4, 16, 25, 36, 49]\n",
      "[22, 4, 56, 78]\n",
      "212\n"
     ]
    }
   ],
   "source": [
    "#Let's learn about Map, Filter and Reduce in python.\n",
    "#So, let's start with the map function\n",
    "#map function applies a function to each element in a sequence and returns a new sequence \n",
    "#containing the transformed elements.\n",
    "#Syntax: map(function,iterable) function argument is the function applied to each element of iterable.\n",
    "#iterable can be list, tuple etc\n",
    "numbers=[2,4,5,6,7]\n",
    "\n",
    "doubled = list(map(lambda x:x*x,numbers)) #by adding list the output will return in a list form.\n",
    "un_doubled = map(lambda x:x*x,numbers) #without list something else will print\n",
    "print(un_doubled)\n",
    "print(doubled)\n",
    "\n",
    "#Now moving towards the filter function\n",
    "#it filters the given sequence based on a predicate and returns the sequence which meets the sequence.\n",
    "#Syntax: filter(predicate,iterable)\n",
    "num = [21,22,43,4,56,78,67]\n",
    "\n",
    "evens = filter(lambda x:x%2==0,num)\n",
    "print(list(evens))\n",
    "\n",
    "#now lets's move toward reduce function\n",
    "#it is a higher order function that applies a function to a sequence and returns a single value.\n",
    "#Syntax: reduce(function,iterable)\n",
    "#Moreover we have to import reduce from functools to use it.\n",
    "from functools import reduce\n",
    "num1=[34,54,12,36,76]\n",
    "\n",
    "sum = reduce(lambda x,y:x+y,num1)\n",
    "print(sum)"
   ]
  },
  {
   "cell_type": "code",
   "execution_count": 5,
   "id": "4b57fbca",
   "metadata": {},
   "outputs": [
    {
     "name": "stdout",
     "output_type": "stream",
     "text": [
      "False\n",
      "False\n"
     ]
    }
   ],
   "source": [
    "#What is the difference between 'is' and '=='.\n",
    "#for single variables they produce same result but for lists and dictionaries they can behave differently.\n",
    "a=5\n",
    "b=6\n",
    "print(a==b)  #it compares the exact value\n",
    "print(a is b) #it compares the location of the object in memory"
   ]
  },
  {
   "cell_type": "code",
   "execution_count": null,
   "id": "813c7bd5",
   "metadata": {},
   "outputs": [],
   "source": []
  }
 ],
 "metadata": {
  "kernelspec": {
   "display_name": "Python 3 (ipykernel)",
   "language": "python",
   "name": "python3"
  },
  "language_info": {
   "codemirror_mode": {
    "name": "ipython",
    "version": 3
   },
   "file_extension": ".py",
   "mimetype": "text/x-python",
   "name": "python",
   "nbconvert_exporter": "python",
   "pygments_lexer": "ipython3",
   "version": "3.9.13"
  }
 },
 "nbformat": 4,
 "nbformat_minor": 5
}
