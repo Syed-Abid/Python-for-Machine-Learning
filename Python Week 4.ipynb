{
 "cells": [
  {
   "cell_type": "code",
   "execution_count": 4,
   "id": "27557bf9",
   "metadata": {},
   "outputs": [
    {
     "name": "stdout",
     "output_type": "stream",
     "text": [
      "Abid is a Data Analyst\n",
      "Hammad is a CFA\n"
     ]
    }
   ],
   "source": [
    "#Now we will start with Object Oriented Programming in Python\n",
    "#the programming that we have done before is called Procedura Programming.\n",
    "#The basic idea of OOP is to use classes and objects to represent real-world concepts and entities.\n",
    "#A class is a blueprint or template for creating objects.\n",
    "#An object is an instance of class and it contains it's own data.\n",
    "#Some of the key features are Encapsulation,Polymorphism,Inheritance etc.\n",
    "#to create a class and it's object we write this\n",
    "class Person:\n",
    "    name=\"Abid\"\n",
    "    age=19\n",
    "    occupation=\"Data Analyst\"\n",
    "    def info(self):  #self parameter is the reference to the current instance of the class\n",
    "        print(f\"{self.name} is a {self.occupation}\")\n",
    "        \n",
    "a = Person() #here we have created an object named a.\n",
    "b = Person()\n",
    "b.name=\"Hammad\"\n",
    "b.occupation=\"CFA\"\n",
    "a.info()\n",
    "b.info()"
   ]
  },
  {
   "cell_type": "code",
   "execution_count": 10,
   "id": "d4796526",
   "metadata": {},
   "outputs": [
    {
     "name": "stdout",
     "output_type": "stream",
     "text": [
      "Hey There!\n",
      "Hello Everyone!\n",
      "Hello to all students!\n"
     ]
    }
   ],
   "source": [
    "#Now we will move towards the concept of constructors\n",
    "#it is a special method in a class which is used to create and initialize an object of a class\n",
    "#It is a unique function that gets called automatically when an obejct is created for a class\n",
    "#it's purpose is to initialize or assign values to the data members of the class\n",
    "class Intro:\n",
    "    \n",
    "    def __init__(self):\n",
    "        print(\"Hey There!\")\n",
    "        \n",
    "a=Intro()\n",
    "\n",
    "#You can also create constructors with multiple arguments\n",
    "class define:\n",
    "    \n",
    "    def __init__(self,g,h):\n",
    "        print(\"Hello Everyone!\")\n",
    "        self.greet = g\n",
    "        self.hi = h\n",
    "        \n",
    "    def info(self):\n",
    "        print(f\"{self.greet} to all {self.hi}\")\n",
    "        \n",
    "b = define(\"Hello\",\"students!\")\n",
    "b.info()\n",
    "#so, now we have seen all types of constructors, the first one is Default and second one is \n",
    "#parametrized. THe first one take no arguments, while the other one take some arguments.\n"
   ]
  },
  {
   "cell_type": "code",
   "execution_count": 7,
   "id": "d86935f0",
   "metadata": {},
   "outputs": [],
   "source": [
    "#Now we talk about Decorators.\n",
    "#So it is basically a function that takes another function as an argument and returns a  new \n",
    "#function that modifies the behavior of the original function.\n",
    "def greet(fx):\n",
    "    def mfx():\n",
    "        print(\"Good Morning\")\n",
    "        fx()\n",
    "        print(\"Thanks for using!\")\n",
    "    return mfx\n",
    "\n",
    "@greet\n",
    "def hello():\n",
    "    print(\"Hello World!\")\n",
    "    \n",
    "#Now if we talk that what is the practical use case for this\n",
    "#so it's prctical use case is to add a logging function\n",
    "import logging\n",
    "\n",
    "def thanks(func):\n",
    "    def decorated(*args,**kwargs):\n",
    "        logging.info(f\"Calling {func.__name__} with args={args},kwargs={kwargs}\") #so *args takes arguments as a tuple\n",
    "        result = func(*args,**kwargs)      #*kwargs takes arguments as a dictionary\n",
    "        logging.info(f\"{func.__name__} returned {result}\")\n",
    "        return result\n",
    "    return decorated\n",
    "                     \n",
    "@thanks\n",
    "def my_function(a,b):\n",
    "    return a+b\n",
    "                     "
   ]
  },
  {
   "cell_type": "code",
   "execution_count": 6,
   "id": "e1f4f956",
   "metadata": {},
   "outputs": [
    {
     "data": {
      "text/plain": [
       "20"
      ]
     },
     "execution_count": 6,
     "metadata": {},
     "output_type": "execute_result"
    }
   ],
   "source": [
    "#Now we will learn about Getters and Setters\n",
    "#so, getters are methods which is used to access the value of an object's properties.\n",
    "#they are used to return the value of a specific property.\n",
    "#they are typically defined using the property decorator.\n",
    "class MyClass:\n",
    "    def __init__(self,value):\n",
    "        self._value = value\n",
    "        \n",
    "    @property\n",
    "    def value(self):\n",
    "        return self._value\n",
    "    \n",
    "    @value.setter\n",
    "    def value(self,new_value):\n",
    "        self._value = new_value\n",
    "        \n",
    "obj = MyClass(10)\n",
    "obj.value = 20\n",
    "obj.value\n",
    "#the important part here is that getter donot set the value and take parameters\n",
    "#So, for that you have to use Setter"
   ]
  },
  {
   "cell_type": "code",
   "execution_count": 10,
   "id": "7f819afa",
   "metadata": {},
   "outputs": [
    {
     "name": "stdout",
     "output_type": "stream",
     "text": [
      "Employee name is Abid\n",
      "Language is Python\n"
     ]
    }
   ],
   "source": [
    "#Now we will learn about the concepts of inheritance.\n",
    "#it means to derive a class from another class\n",
    "#this way a class can use all the properties of another class\n",
    "#there is five types of inheritances\n",
    "#Single,Multiple, Multilevel,Heirarichal,Hybrid\n",
    "class Employee:\n",
    "    def __init__(self,name):\n",
    "        self.name = name\n",
    "        \n",
    "    def showdetails(self):\n",
    "        print(f\"Employee name is {self.name}\")\n",
    "        \n",
    "class Programmer(Employee):\n",
    "    def language(self):\n",
    "        print(\"Language is Python\")\n",
    "        \n",
    "e = Employee(\"Abid\")\n",
    "e.showdetails()\n",
    "e2 = Programmer(\"Hammad\")\n",
    "e2.language()"
   ]
  },
  {
   "cell_type": "code",
   "execution_count": 10,
   "id": "404fe361",
   "metadata": {},
   "outputs": [
    {
     "name": "stdout",
     "output_type": "stream",
     "text": [
      "Abid 20\n",
      "Villa\n",
      "1990\n",
      "Hi Everyone!\n",
      "Abid\n",
      "Data Analyst\n"
     ]
    }
   ],
   "source": [
    "#Now we will learn Access modifiers in Python\n",
    "#so these are used to limit the access of class variables and methods outside of the class.\n",
    "#there are three types fo modifiers\n",
    "#public, private,protected\n",
    "#so we will start with the public\n",
    "#By default every class variable is public in python, to make it private and protected you have to specify it as such.\n",
    "class Student:\n",
    "    def __init__(self, age, name):\n",
    "        self.name = name     #public variable\n",
    "        self.age = age       #public variable\n",
    "        \n",
    "obj = Student('Abid',20)\n",
    "print(obj.age,obj.name)\n",
    "\n",
    "#Now moving towards the private access modifier. So, they are the ones which cannot be accessed outside the class.\n",
    "#to make a variable private we use \"__\" symbol.\n",
    "#let's make changes in the above example\n",
    "class Home:\n",
    "    def __init__(self,name,year):\n",
    "        self.name = name\n",
    "        self.__year = year        #private variable\n",
    "        \n",
    "obj = Home(\"Villa\",1990)\n",
    "print(obj.name)\n",
    "#print(obj.__year)\n",
    "\n",
    "#So, as we can see in the output that when we are trying to access the private variable outside the class\n",
    "#it is giving us error\n",
    "#but '__' is just an indicator,but it can still be accessed by using a concept called Name Mangling\n",
    "print(obj._Home__year)\n",
    "#so,name mangling is a technique used to protect class-private and super-class private attribute from being \n",
    "#accidentally overwritten by sbclasses.\n",
    "\n",
    "#now moving towards protected that a protected member can also be accessed by the class and it's subclasses.\n",
    "class Myself:\n",
    "    def __init__(self,name,profession):\n",
    "        self.name = name\n",
    "        self._profession = profession\n",
    "      \n",
    "    def _Intro(self):\n",
    "        print(\"Hi Everyone!\")\n",
    "\n",
    "obj = Myself(\"Abid\",\"Data Analyst\")\n",
    "obj._Intro()\n",
    "print(obj.name)\n",
    "print(obj._profession)"
   ]
  },
  {
   "cell_type": "code",
   "execution_count": 1,
   "id": "3abafe13",
   "metadata": {},
   "outputs": [
    {
     "name": "stdout",
     "output_type": "stream",
     "text": [
      "13\n"
     ]
    }
   ],
   "source": [
    "#Now we will uncover static methods in Python\n",
    "#static methods are those methods that belongs to a class rather than an instance of a class.\n",
    "#they are defined using the @staticmethod decorator and donot have access to the instance of the class.\n",
    "\n",
    "class Math:\n",
    "    @staticmethod\n",
    "    def add(a,b):\n",
    "        return a + b\n",
    "    \n",
    "result = Math.add(6,7)\n",
    "print(result)\n",
    "\n",
    "#so, as we can see that by using static method we get rid of the self method and can mke our functions without it.\n",
    "#it means, it is not necessary to use self method to make functions, we do it without self using static method."
   ]
  },
  {
   "cell_type": "code",
   "execution_count": 2,
   "id": "9acdfe4e",
   "metadata": {},
   "outputs": [
    {
     "name": "stdout",
     "output_type": "stream",
     "text": [
      "The name of the Employee is Harry and the raise amount in 1 sized Apple India is 0.3\n",
      "Google\n",
      "The name of the Employee is Rohan and the raise amount in 2 sized Nestle is 0.02\n"
     ]
    }
   ],
   "source": [
    "#Now we will learn about Instance variables and Class variables\n",
    "#Starting with the class variables, which are defined at the class level and are shared among all instances of the class.\n",
    "#they are defined outside of any class method and is used to store information that is common among all instances.\n",
    "class Employee:\n",
    "  companyName = \"Apple\"\n",
    "  noOfEmployees = 0\n",
    "  def __init__(self, name):\n",
    "    self.name = name\n",
    "    self.raise_amount = 0.02\n",
    "    Employee.noOfEmployees +=1\n",
    "  def showDetails(self):\n",
    "    print(f\"The name of the Employee is {self.name} and the raise amount in {self.noOfEmployees} sized {self.companyName} is {self.raise_amount}\")\n",
    "\n",
    "# Employee.showDetails(emp1)\n",
    "emp1 = Employee(\"Harry\")\n",
    "emp1.raise_amount = 0.3\n",
    "emp1.companyName = \"Apple India\" \n",
    "emp1.showDetails()\n",
    "Employee.companyName = \"Google\"\n",
    "print(Employee.companyName)\n",
    "\n",
    "emp2 = Employee(\"Rohan\")\n",
    "emp2.companyName = \"Nestle\"\n",
    "emp2.showDetails()\n",
    "\n",
    "#Instance variables store that information which is different for every instance.\n",
    "#it is like that we have created a class variable named companyname as above and then we are changing it's value for every instance."
   ]
  },
  {
   "cell_type": "code",
   "execution_count": 1,
   "id": "a4558973",
   "metadata": {},
   "outputs": [
    {
     "name": "stdout",
     "output_type": "stream",
     "text": [
      "The name is Harry and company is Apple\n",
      "The name is Harry and company is Tesla\n",
      "Tesla\n"
     ]
    }
   ],
   "source": [
    "#Now we will start Class Methods.\n",
    "#so, it is a type of method that is bound to the class and not the instance of a class.\n",
    "#In other words, it operates on the class as a whole rather than on a specific instance of the class.\n",
    "class Employee:\n",
    "  company = \"Apple\"\n",
    "  def show(self):\n",
    "    print(f\"The name is {self.name} and company is {self.company}\")\n",
    "\n",
    "  @classmethod          #this decorator is used to convert a method into a class method which can be used to change values of the\n",
    "  def changeCompany(cls, newCompany):    #class variables.\n",
    "    cls.company = newCompany\n",
    "\n",
    "\n",
    "e1 = Employee()\n",
    "e1.name = \"Harry\"\n",
    "e1.show()\n",
    "e1.changeCompany(\"Tesla\")\n",
    "e1.show()\n",
    "print(Employee.company)\n",
    "#Class methods can be useful in many ways like you could define a method that creates the instance and returns it to the caller."
   ]
  },
  {
   "cell_type": "code",
   "execution_count": 2,
   "id": "ac97ae97",
   "metadata": {},
   "outputs": [
    {
     "name": "stdout",
     "output_type": "stream",
     "text": [
      "Harry\n",
      "12000\n",
      "John\n",
      "12000\n",
      "John Doe 30\n"
     ]
    }
   ],
   "source": [
    "#Now we will learn how can we use Class methods as Alternative constructors in python\n",
    "#You all must be thinking that why do we need these constructors.\n",
    "#they are needed in some cases like when you want to create an object from data that is stored in a different format\n",
    "#such as string or dictionary.\n",
    "class Employee:\n",
    "  def __init__(self, name, salary):\n",
    "    self.name = name \n",
    "    self.salary = salary\n",
    "    \n",
    "  @classmethod\n",
    "  def fromStr(cls, string):\n",
    "    return cls(string.split(\"-\")[0], int(string.split(\"-\")[1]))\n",
    "    \n",
    "e1 = Employee(\"Harry\", 12000)\n",
    "print(e1.name)\n",
    "print(e1.salary)\n",
    "\n",
    "string = \"John-12000\"\n",
    "e2 = Employee.fromStr(string)\n",
    "print(e2.name)\n",
    "print(e2.salary)\n",
    "\n",
    "class Person:\n",
    "    def __init__(self, name, age):\n",
    "        self.name = name\n",
    "        self.age = age\n",
    "\n",
    "    @classmethod\n",
    "    def from_string(cls, string):\n",
    "        name, age = string.split(',')\n",
    "        return cls(name, int(age))\n",
    "\n",
    "person = Person.from_string(\"John Doe, 30\")\n",
    "print(person.name, person.age)"
   ]
  },
  {
   "cell_type": "code",
   "execution_count": 4,
   "id": "9d64993b",
   "metadata": {},
   "outputs": [
    {
     "name": "stdout",
     "output_type": "stream",
     "text": [
      "{'name': 'John', 'age': 30, 'version': 1}\n",
      "Help on class Person in module __main__:\n",
      "\n",
      "class Person(builtins.object)\n",
      " |  Person(name, age)\n",
      " |  \n",
      " |  Methods defined here:\n",
      " |  \n",
      " |  __init__(self, name, age)\n",
      " |      Initialize self.  See help(type(self)) for accurate signature.\n",
      " |  \n",
      " |  ----------------------------------------------------------------------\n",
      " |  Data descriptors defined here:\n",
      " |  \n",
      " |  __dict__\n",
      " |      dictionary for instance variables (if defined)\n",
      " |  \n",
      " |  __weakref__\n",
      " |      list of weak references to the object (if defined)\n",
      "\n",
      "None\n"
     ]
    }
   ],
   "source": [
    "#Lets move forward to dir , _dict_ and help methods.\n",
    "#So, starting with the dir() method. It returns the list of all the attributes and methods(including dunder methods)\n",
    "#available for an object. \n",
    "x = [1,2,3]\n",
    "dir(x)\n",
    "\n",
    "#Moving to the _dict_ attribute. So, this attribute returns a dictionary representation of an object's attribute.\n",
    "class Person:\n",
    "  def __init__(self, name, age):\n",
    "      self.name = name\n",
    "      self.age = age\n",
    "      self.version = 1\n",
    "\n",
    "    \n",
    "p = Person(\"John\", 30)\n",
    "print(p.__dict__)\n",
    "\n",
    "#Finally the help method.\n",
    "#help function is used to get help documentation for an object, including a description of its attributes and methods.\n",
    "print(help(Person))"
   ]
  }
 ],
 "metadata": {
  "kernelspec": {
   "display_name": "Python 3 (ipykernel)",
   "language": "python",
   "name": "python3"
  },
  "language_info": {
   "codemirror_mode": {
    "name": "ipython",
    "version": 3
   },
   "file_extension": ".py",
   "mimetype": "text/x-python",
   "name": "python",
   "nbconvert_exporter": "python",
   "pygments_lexer": "ipython3",
   "version": "3.9.13"
  }
 },
 "nbformat": 4,
 "nbformat_minor": 5
}
